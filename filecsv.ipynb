{
 "cells": [
  {
   "cell_type": "code",
   "execution_count": 1,
   "id": "initial_id",
   "metadata": {
    "ExecuteTime": {
     "end_time": "2024-01-04T06:48:10.611565500Z",
     "start_time": "2024-01-04T06:48:10.038212100Z"
    }
   },
   "outputs": [],
   "source": [
    "import pandas as pd\n",
    "\n"
   ]
  },
  {
   "cell_type": "code",
   "execution_count": 2,
   "id": "d96fc000f5c5423d",
   "metadata": {
    "ExecuteTime": {
     "end_time": "2024-01-04T06:48:13.850651Z",
     "start_time": "2024-01-04T06:48:13.831128300Z"
    },
    "collapsed": false
   },
   "outputs": [
    {
     "name": "stdout",
     "output_type": "stream",
     "text": [
      "     LVS/Hồ/Ngày/Giờ LVS/Hồ chứa/Ngày  Mực nước hồ (m)  \\\n",
      "0           00:00:00       2021-01-01           428.74   \n",
      "1           01:00:00       2021-01-01           428.76   \n",
      "2           02:00:00       2021-01-01           428.78   \n",
      "3           03:00:00       2021-01-01           428.80   \n",
      "4           04:00:00       2021-01-01           428.82   \n",
      "...              ...              ...              ...   \n",
      "2179        19:00:00       2021-04-01           427.63   \n",
      "2180        20:00:00       2021-04-01           427.62   \n",
      "2181        21:00:00       2021-04-01           427.61   \n",
      "2182        22:00:00       2021-04-01           427.60   \n",
      "2183        23:00:00       2021-04-01           427.60   \n",
      "\n",
      "      Lưu lượng đến hồ (m³/s)  Tổng lưu lượng xả (m³/s)[Thực tế]  \n",
      "0                       43.56                                7.9  \n",
      "1                       43.84                                4.0  \n",
      "2                       41.76                                4.0  \n",
      "3                       38.54                                4.0  \n",
      "4                       36.47                                4.0  \n",
      "...                       ...                                ...  \n",
      "2179                     2.15                               27.5  \n",
      "2180                     2.23                               13.1  \n",
      "2181                     2.38                               24.0  \n",
      "2182                     2.26                               25.5  \n",
      "2183                    23.56                               24.5  \n",
      "\n",
      "[2184 rows x 5 columns]\n"
     ]
    }
   ],
   "source": [
    "data = pd.read_csv('DuLieuAnKhe/1.csv')\n",
    "\n",
    "# In ra dữ liệu để kiểm tra\n",
    "print(data)"
   ]
  },
  {
   "cell_type": "code",
   "execution_count": null,
   "id": "7894d69d745441f9",
   "metadata": {
    "collapsed": false
   },
   "outputs": [],
   "source": []
  },
  {
   "cell_type": "code",
   "execution_count": null,
   "outputs": [],
   "source": [],
   "metadata": {
    "collapsed": false
   },
   "id": "f90c17471cfb675a"
  }
 ],
 "metadata": {
  "kernelspec": {
   "display_name": "Python 3 (ipykernel)",
   "language": "python",
   "name": "python3"
  },
  "language_info": {
   "codemirror_mode": {
    "name": "ipython",
    "version": 3
   },
   "file_extension": ".py",
   "mimetype": "text/x-python",
   "name": "python",
   "nbconvert_exporter": "python",
   "pygments_lexer": "ipython3",
   "version": "3.11.5"
  }
 },
 "nbformat": 4,
 "nbformat_minor": 5
}
