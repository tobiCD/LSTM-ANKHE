{
 "cells": [
  {
   "cell_type": "code",
   "execution_count": 1,
   "id": "9021ccca-66fb-4dd4-a9af-cfc4a6284e8e",
   "metadata": {
    "ExecuteTime": {
     "end_time": "2024-01-17T02:37:02.125539600Z",
     "start_time": "2024-01-17T02:37:00.361380500Z"
    }
   },
   "outputs": [],
   "source": [
    "import numpy as np \n",
    "import pandas as pd \n",
    "import matplotlib.pyplot as plt\n",
    "import seaborn as sns"
   ]
  },
  {
   "cell_type": "code",
   "execution_count": 30,
   "id": "9846d455-f149-4ad3-9aa8-31dc8a15057d",
   "metadata": {
    "ExecuteTime": {
     "end_time": "2024-01-17T02:37:04.115437600Z",
     "start_time": "2024-01-17T02:37:04.062411200Z"
    }
   },
   "outputs": [
    {
     "name": "stdout",
     "output_type": "stream",
     "text": [
      "Time           object\n",
      "WaterLevel    float64\n",
      "FlowWater     float64\n",
      "Total         float64\n",
      "dtype: object\n"
     ]
    }
   ],
   "source": [
    "df = pd.read_csv('DuLieuAnKhe2.csv')\n",
    "print(df.dtypes)"
   ]
  },
  {
   "cell_type": "code",
   "execution_count": 3,
   "id": "2bcbcdc8-8ab9-458d-9081-a54d7d64dbe3",
   "metadata": {},
   "outputs": [
    {
     "data": {
      "text/html": [
       "<div>\n",
       "<style scoped>\n",
       "    .dataframe tbody tr th:only-of-type {\n",
       "        vertical-align: middle;\n",
       "    }\n",
       "\n",
       "    .dataframe tbody tr th {\n",
       "        vertical-align: top;\n",
       "    }\n",
       "\n",
       "    .dataframe thead th {\n",
       "        text-align: right;\n",
       "    }\n",
       "</style>\n",
       "<table border=\"1\" class=\"dataframe\">\n",
       "  <thead>\n",
       "    <tr style=\"text-align: right;\">\n",
       "      <th></th>\n",
       "      <th>Time</th>\n",
       "      <th>WaterLevel</th>\n",
       "      <th>FlowWater</th>\n",
       "      <th>Total</th>\n",
       "    </tr>\n",
       "  </thead>\n",
       "  <tbody>\n",
       "    <tr>\n",
       "      <th>0</th>\n",
       "      <td>2019-10-02 00:00:00</td>\n",
       "      <td>427.18</td>\n",
       "      <td>2.65</td>\n",
       "      <td>0.0</td>\n",
       "    </tr>\n",
       "    <tr>\n",
       "      <th>1</th>\n",
       "      <td>2019-10-02 01:00:00</td>\n",
       "      <td>427.19</td>\n",
       "      <td>10.67</td>\n",
       "      <td>0.0</td>\n",
       "    </tr>\n",
       "    <tr>\n",
       "      <th>2</th>\n",
       "      <td>2019-10-02 02:00:00</td>\n",
       "      <td>427.20</td>\n",
       "      <td>10.67</td>\n",
       "      <td>0.0</td>\n",
       "    </tr>\n",
       "    <tr>\n",
       "      <th>3</th>\n",
       "      <td>2019-10-02 03:00:00</td>\n",
       "      <td>427.20</td>\n",
       "      <td>4.00</td>\n",
       "      <td>0.0</td>\n",
       "    </tr>\n",
       "    <tr>\n",
       "      <th>4</th>\n",
       "      <td>2019-10-02 04:00:00</td>\n",
       "      <td>427.19</td>\n",
       "      <td>2.50</td>\n",
       "      <td>0.0</td>\n",
       "    </tr>\n",
       "    <tr>\n",
       "      <th>5</th>\n",
       "      <td>2019-10-02 05:00:00</td>\n",
       "      <td>427.19</td>\n",
       "      <td>2.27</td>\n",
       "      <td>0.0</td>\n",
       "    </tr>\n",
       "    <tr>\n",
       "      <th>6</th>\n",
       "      <td>2019-10-02 06:00:00</td>\n",
       "      <td>427.18</td>\n",
       "      <td>2.15</td>\n",
       "      <td>0.0</td>\n",
       "    </tr>\n",
       "    <tr>\n",
       "      <th>7</th>\n",
       "      <td>2019-10-02 07:00:00</td>\n",
       "      <td>427.18</td>\n",
       "      <td>2.06</td>\n",
       "      <td>0.0</td>\n",
       "    </tr>\n",
       "    <tr>\n",
       "      <th>8</th>\n",
       "      <td>2019-10-02 08:00:00</td>\n",
       "      <td>427.17</td>\n",
       "      <td>2.00</td>\n",
       "      <td>0.0</td>\n",
       "    </tr>\n",
       "    <tr>\n",
       "      <th>9</th>\n",
       "      <td>2019-10-02 09:00:00</td>\n",
       "      <td>427.17</td>\n",
       "      <td>2.00</td>\n",
       "      <td>0.0</td>\n",
       "    </tr>\n",
       "  </tbody>\n",
       "</table>\n",
       "</div>"
      ],
      "text/plain": [
       "                  Time  WaterLevel  FlowWater  Total\n",
       "0  2019-10-02 00:00:00      427.18       2.65    0.0\n",
       "1  2019-10-02 01:00:00      427.19      10.67    0.0\n",
       "2  2019-10-02 02:00:00      427.20      10.67    0.0\n",
       "3  2019-10-02 03:00:00      427.20       4.00    0.0\n",
       "4  2019-10-02 04:00:00      427.19       2.50    0.0\n",
       "5  2019-10-02 05:00:00      427.19       2.27    0.0\n",
       "6  2019-10-02 06:00:00      427.18       2.15    0.0\n",
       "7  2019-10-02 07:00:00      427.18       2.06    0.0\n",
       "8  2019-10-02 08:00:00      427.17       2.00    0.0\n",
       "9  2019-10-02 09:00:00      427.17       2.00    0.0"
      ]
     },
     "execution_count": 3,
     "metadata": {},
     "output_type": "execute_result"
    }
   ],
   "source": [
    "df.head(10)"
   ]
  },
  {
   "cell_type": "code",
   "execution_count": 4,
   "id": "3ff77945-e4ca-45fa-afce-bb0d8ed7e225",
   "metadata": {},
   "outputs": [
    {
     "data": {
      "text/plain": [
       "(30564, 4)"
      ]
     },
     "execution_count": 4,
     "metadata": {},
     "output_type": "execute_result"
    }
   ],
   "source": [
    "df.shape"
   ]
  },
  {
   "cell_type": "code",
   "execution_count": 5,
   "id": "17b395c1-869b-4156-a1b9-8adf47e22afa",
   "metadata": {},
   "outputs": [
    {
     "data": {
      "text/html": [
       "<div>\n",
       "<style scoped>\n",
       "    .dataframe tbody tr th:only-of-type {\n",
       "        vertical-align: middle;\n",
       "    }\n",
       "\n",
       "    .dataframe tbody tr th {\n",
       "        vertical-align: top;\n",
       "    }\n",
       "\n",
       "    .dataframe thead th {\n",
       "        text-align: right;\n",
       "    }\n",
       "</style>\n",
       "<table border=\"1\" class=\"dataframe\">\n",
       "  <thead>\n",
       "    <tr style=\"text-align: right;\">\n",
       "      <th></th>\n",
       "      <th>WaterLevel</th>\n",
       "      <th>FlowWater</th>\n",
       "      <th>Total</th>\n",
       "    </tr>\n",
       "  </thead>\n",
       "  <tbody>\n",
       "    <tr>\n",
       "      <th>count</th>\n",
       "      <td>30564.000000</td>\n",
       "      <td>30564.000000</td>\n",
       "      <td>30564.00000</td>\n",
       "    </tr>\n",
       "    <tr>\n",
       "      <th>mean</th>\n",
       "      <td>429.607426</td>\n",
       "      <td>34.622634</td>\n",
       "      <td>1.34084</td>\n",
       "    </tr>\n",
       "    <tr>\n",
       "      <th>std</th>\n",
       "      <td>242.433483</td>\n",
       "      <td>45.696040</td>\n",
       "      <td>7.04787</td>\n",
       "    </tr>\n",
       "    <tr>\n",
       "      <th>min</th>\n",
       "      <td>48.420000</td>\n",
       "      <td>1.100000</td>\n",
       "      <td>0.00000</td>\n",
       "    </tr>\n",
       "    <tr>\n",
       "      <th>25%</th>\n",
       "      <td>427.830000</td>\n",
       "      <td>4.050000</td>\n",
       "      <td>0.00000</td>\n",
       "    </tr>\n",
       "    <tr>\n",
       "      <th>50%</th>\n",
       "      <td>428.180000</td>\n",
       "      <td>32.430000</td>\n",
       "      <td>0.00000</td>\n",
       "    </tr>\n",
       "    <tr>\n",
       "      <th>75%</th>\n",
       "      <td>428.730000</td>\n",
       "      <td>39.150000</td>\n",
       "      <td>0.00000</td>\n",
       "    </tr>\n",
       "    <tr>\n",
       "      <th>max</th>\n",
       "      <td>42810.000000</td>\n",
       "      <td>537.630000</td>\n",
       "      <td>173.40000</td>\n",
       "    </tr>\n",
       "  </tbody>\n",
       "</table>\n",
       "</div>"
      ],
      "text/plain": [
       "         WaterLevel     FlowWater        Total\n",
       "count  30564.000000  30564.000000  30564.00000\n",
       "mean     429.607426     34.622634      1.34084\n",
       "std      242.433483     45.696040      7.04787\n",
       "min       48.420000      1.100000      0.00000\n",
       "25%      427.830000      4.050000      0.00000\n",
       "50%      428.180000     32.430000      0.00000\n",
       "75%      428.730000     39.150000      0.00000\n",
       "max    42810.000000    537.630000    173.40000"
      ]
     },
     "execution_count": 5,
     "metadata": {},
     "output_type": "execute_result"
    }
   ],
   "source": [
    "df.describe()"
   ]
  },
  {
   "cell_type": "code",
   "execution_count": 6,
   "id": "fb7fecc4-bc16-4d3a-8da8-df3c628b3212",
   "metadata": {},
   "outputs": [
    {
     "name": "stdout",
     "output_type": "stream",
     "text": [
      "<class 'pandas.core.frame.DataFrame'>\n",
      "RangeIndex: 30564 entries, 0 to 30563\n",
      "Data columns (total 4 columns):\n",
      " #   Column      Non-Null Count  Dtype  \n",
      "---  ------      --------------  -----  \n",
      " 0   Time        30564 non-null  object \n",
      " 1   WaterLevel  30564 non-null  float64\n",
      " 2   FlowWater   30564 non-null  float64\n",
      " 3   Total       30564 non-null  float64\n",
      "dtypes: float64(3), object(1)\n",
      "memory usage: 955.3+ KB\n"
     ]
    }
   ],
   "source": [
    "df.info()"
   ]
  },
  {
   "cell_type": "code",
   "execution_count": 41,
   "id": "930bcf5e-fd7d-4cde-aaaf-5bbefb0dff49",
   "metadata": {},
   "outputs": [
    {
     "name": "stdout",
     "output_type": "stream",
     "text": [
      "(6114, 4)\n",
      "(24450, 4)\n"
     ]
    }
   ],
   "source": [
    "df['Time'] = pd.to_datetime(df['Time'])\n",
    "df = df.loc[df['Time'] >= '2019-10-02 00:00:00']\n",
    "n_train_rows = int(df.shape[0]*0.8)-1\n",
    "train = df.iloc[:n_train_rows ,:]\n",
    "test = df.iloc[n_train_rows: ,:]\n",
    "print(test.shape)\n",
    "print(train.shape)"
   ]
  },
  {
   "cell_type": "code",
   "execution_count": 42,
   "id": "73ef028b-b024-4f3c-a303-38f6a413d096",
   "metadata": {},
   "outputs": [
    {
     "data": {
      "text/plain": [
       "<bound method NDFrame.tail of                                    Time  WaterLevel  FlowWater  Total\n",
       "Time                                                                 \n",
       "2019-10-02 00:00:00 2019-10-02 00:00:00      427.18       2.65    0.0\n",
       "2019-10-02 01:00:00 2019-10-02 01:00:00      427.19      10.67    0.0\n",
       "2019-10-02 02:00:00 2019-10-02 02:00:00      427.20      10.67    0.0\n",
       "2019-10-02 03:00:00 2019-10-02 03:00:00      427.20       4.00    0.0\n",
       "2019-10-02 04:00:00 2019-10-02 04:00:00      427.19       2.50    0.0\n",
       "...                                 ...         ...        ...    ...\n",
       "2022-10-19 12:00:00 2022-10-19 12:00:00      428.98      72.89    0.0\n",
       "2022-10-19 13:00:00 2022-10-19 13:00:00      428.98      72.95    0.0\n",
       "2022-10-19 14:00:00 2022-10-19 14:00:00      428.98      73.48    0.0\n",
       "2022-10-19 15:00:00 2022-10-19 15:00:00      428.98      74.57    0.0\n",
       "2022-10-19 16:00:00 2022-10-19 16:00:00      428.98      73.92    0.0\n",
       "\n",
       "[24450 rows x 4 columns]>"
      ]
     },
     "execution_count": 42,
     "metadata": {},
     "output_type": "execute_result"
    }
   ],
   "source": [
    "df.index=df['Time']\n",
    "train.tail"
   ]
  },
  {
   "cell_type": "code",
   "execution_count": 45,
   "id": "d0ebfd7b-a5e0-43b6-b8a4-a3056f3c64e8",
   "metadata": {},
   "outputs": [
    {
     "name": "stdout",
     "output_type": "stream",
     "text": [
      "[[0.00885748 0.00288893 0.        ]\n",
      " [0.00885772 0.01783684 0.        ]\n",
      " [0.00885795 0.01783684 0.        ]\n",
      " ...\n",
      " [0.00889958 0.13490392 0.        ]\n",
      " [0.00889958 0.13693549 0.        ]\n",
      " [0.00889958 0.135724   0.        ]]\n"
     ]
    }
   ],
   "source": [
    "numeric_columns = train.select_dtypes(include=['float64', 'int64']).columns\n",
    "\n",
    "# Use only the numeric columns for scaling\n",
    "scaler = MinMaxScaler(feature_range=(0, 1))\n",
    "training_set_scaled = scaler.fit_transform(train[numeric_columns].values)\n",
    "test_set_scaled = scaler.transform(test[numeric_columns].values)\n",
    "print(training_set_scaled)"
   ]
  },
  {
   "cell_type": "code",
   "execution_count": 53,
   "id": "0eadad5b-aa5d-465d-87ca-be37ba3b33b8",
   "metadata": {
    "ExecuteTime": {
     "end_time": "2024-01-16T08:39:26.141382500Z",
     "start_time": "2024-01-16T08:39:26.121221900Z"
    }
   },
   "outputs": [
    {
     "name": "stdout",
     "output_type": "stream",
     "text": [
      "X_train:(24400, 50, 3)\n",
      "y_train:(24400, 3)\n",
      "x_test:(6064, 50, 3)\n",
      "X_test:(6064, 3)\n"
     ]
    }
   ],
   "source": [
    "def create_dataset(dataset , n_step =50):\n",
    "    dataX , dataY = [] ,[]\n",
    "    for i in range(n_step,len(dataset)):\n",
    "        dataX.append(dataset[i-n_step:i ,:])\n",
    "        dataY.append(dataset[i])\n",
    "    return np.array(dataX) , np.array(dataY)\n",
    "x_train ,y_train = create_dataset(training_set_scaled, n_step=50)\n",
    "x_test ,y_test = create_dataset(test_set_scaled, n_step=50)\n",
    "\n",
    "print(f'X_train:{x_train.shape}')\n",
    "print(f'y_train:{y_train.shape}')\n",
    "print(f'x_test:{x_test.shape}')\n",
    "print(f'X_test:{y_test.shape}')\n",
    "\n",
    "\n",
    "\n"
   ]
  },
  {
   "cell_type": "code",
   "execution_count": 62,
   "id": "28c4c422-91de-41af-8839-4cf96da06476",
   "metadata": {},
   "outputs": [],
   "source": [
    "from keras.models import  Sequential\n",
    "from keras.layers import Dense , LSTM\n",
    "input_shape = (x_train.shape[1], x_train.shape[2])\n",
    "\n",
    "model = Sequential()\n",
    "model.add(LSTM(128, return_sequences=True, input_shape=input_shape))\n",
    "model.add(LSTM(64, return_sequences=False))\n",
    "model.add(Dense(25))\n",
    "model.add(Dense(1))\n",
    "model.compile(optimizer='adam', loss='mean_squared_error')"
   ]
  },
  {
   "cell_type": "code",
   "execution_count": 27,
   "id": "8a3613cf-8e91-4bca-8c15-9d92652b4771",
   "metadata": {
    "ExecuteTime": {
     "end_time": "2024-01-16T08:40:15.474426700Z",
     "start_time": "2024-01-16T08:40:15.466226600Z"
    }
   },
   "outputs": [
    {
     "data": {
      "text/html": [
       "<div>\n",
       "<style scoped>\n",
       "    .dataframe tbody tr th:only-of-type {\n",
       "        vertical-align: middle;\n",
       "    }\n",
       "\n",
       "    .dataframe tbody tr th {\n",
       "        vertical-align: top;\n",
       "    }\n",
       "\n",
       "    .dataframe thead th {\n",
       "        text-align: right;\n",
       "    }\n",
       "</style>\n",
       "<table border=\"1\" class=\"dataframe\">\n",
       "  <thead>\n",
       "    <tr style=\"text-align: right;\">\n",
       "      <th></th>\n",
       "      <th>Time</th>\n",
       "      <th>WaterLevel</th>\n",
       "      <th>FlowWater</th>\n",
       "      <th>Total</th>\n",
       "    </tr>\n",
       "    <tr>\n",
       "      <th>Time</th>\n",
       "      <th></th>\n",
       "      <th></th>\n",
       "      <th></th>\n",
       "      <th></th>\n",
       "    </tr>\n",
       "  </thead>\n",
       "  <tbody>\n",
       "    <tr>\n",
       "      <th>2019-10-02</th>\n",
       "      <td>2019-10-02 11:30:00</td>\n",
       "      <td>427.194167</td>\n",
       "      <td>14.265000</td>\n",
       "      <td>1.161667</td>\n",
       "    </tr>\n",
       "    <tr>\n",
       "      <th>2019-10-03</th>\n",
       "      <td>2019-10-03 11:30:00</td>\n",
       "      <td>427.432917</td>\n",
       "      <td>10.103750</td>\n",
       "      <td>1.068333</td>\n",
       "    </tr>\n",
       "    <tr>\n",
       "      <th>2019-10-04</th>\n",
       "      <td>2019-10-04 11:30:00</td>\n",
       "      <td>427.547083</td>\n",
       "      <td>16.617500</td>\n",
       "      <td>0.000000</td>\n",
       "    </tr>\n",
       "    <tr>\n",
       "      <th>2019-10-05</th>\n",
       "      <td>2019-10-05 11:30:00</td>\n",
       "      <td>427.719167</td>\n",
       "      <td>8.895833</td>\n",
       "      <td>0.000000</td>\n",
       "    </tr>\n",
       "    <tr>\n",
       "      <th>2019-10-06</th>\n",
       "      <td>2019-10-06 11:30:00</td>\n",
       "      <td>427.664167</td>\n",
       "      <td>2.007083</td>\n",
       "      <td>0.000000</td>\n",
       "    </tr>\n",
       "  </tbody>\n",
       "</table>\n",
       "</div>"
      ],
      "text/plain": [
       "                          Time  WaterLevel  FlowWater     Total\n",
       "Time                                                           \n",
       "2019-10-02 2019-10-02 11:30:00  427.194167  14.265000  1.161667\n",
       "2019-10-03 2019-10-03 11:30:00  427.432917  10.103750  1.068333\n",
       "2019-10-04 2019-10-04 11:30:00  427.547083  16.617500  0.000000\n",
       "2019-10-05 2019-10-05 11:30:00  427.719167   8.895833  0.000000\n",
       "2019-10-06 2019-10-06 11:30:00  427.664167   2.007083  0.000000"
      ]
     },
     "execution_count": 27,
     "metadata": {},
     "output_type": "execute_result"
    }
   ],
   "source": []
  },
  {
   "cell_type": "code",
   "execution_count": 14,
   "id": "241c7d3f-f615-4b35-802a-504fa3109674",
   "metadata": {
    "ExecuteTime": {
     "end_time": "2024-01-16T08:42:01.301971800Z",
     "start_time": "2024-01-16T08:42:00.962141900Z"
    }
   },
   "outputs": [
    {
     "data": {
      "image/png": "[encoded data removed]",
      "text/plain": [
       "<Figure size 1200x600 with 1 Axes>"
      ]
     },
     "metadata": {},
     "output_type": "display_data"
    }
   ],
   "source": []
  },
  {
   "cell_type": "code",
   "execution_count": 17,
   "id": "ce98447881801fba",
   "metadata": {
    "ExecuteTime": {
     "end_time": "2024-01-16T08:56:58.222738Z",
     "start_time": "2024-01-16T08:56:58.193538800Z"
    },
    "collapsed": false,
    "jupyter": {
     "outputs_hidden": false
    }
   },
   "outputs": [
    {
     "name": "stdout",
     "output_type": "stream",
     "text": [
      "24452\n"
     ]
    }
   ],
   "source": [
    "data = df.filter(['FlowWater'])\n",
    "dataset = data.values  # Remove the parentheses here\n",
    "training_data_len = int(np.ceil(len(dataset) * 0.80))\n",
    "print(training_data_len)\n"
   ]
  },
  {
   "cell_type": "code",
   "execution_count": 19,
   "id": "57890eaecd25ad28",
   "metadata": {
    "ExecuteTime": {
     "end_time": "2024-01-16T08:58:29.449947800Z",
     "start_time": "2024-01-16T08:58:29.433460800Z"
    },
    "collapsed": false,
    "jupyter": {
     "outputs_hidden": false
    }
   },
   "outputs": [
    {
     "data": {
      "text/plain": [
       "array([[0.00288893],\n",
       "       [0.01783684],\n",
       "       [0.01783684],\n",
       "       ...,\n",
       "       [0.06650141],\n",
       "       [0.06601681],\n",
       "       [0.06592362]])"
      ]
     },
     "execution_count": 19,
     "metadata": {},
     "output_type": "execute_result"
    }
   ],
   "source": [
    "\n",
    "from sklearn.preprocessing import MinMaxScaler\n",
    "scaler = MinMaxScaler(feature_range=(0,1))\n",
    "scaled_data = scaler.fit_transform(dataset)\n",
    "scaled_data"
   ]
  },
  {
   "cell_type": "code",
   "execution_count": 18,
   "id": "986c5c43b7635ca7",
   "metadata": {
    "ExecuteTime": {
     "end_time": "2024-01-16T09:03:35.552910900Z",
     "start_time": "2024-01-16T09:03:35.483165800Z"
    },
    "collapsed": false,
    "jupyter": {
     "outputs_hidden": false
    }
   },
   "outputs": [
    {
     "name": "stdout",
     "output_type": "stream",
     "text": [
      "[array([0.00288893, 0.01783684, 0.01783684, 0.0054051 , 0.00260936,\n",
      "       0.00218068, 0.00195702, 0.00178928, 0.00167745, 0.00167745,\n",
      "       0.00167745, 0.00167745, 0.00167745, 0.00186383, 0.00242298,\n",
      "       0.01970067, 0.05697724, 0.08182208, 0.08182208, 0.06294149,\n",
      "       0.05511341, 0.05511341, 0.05511341, 0.05511341, 0.05511341,\n",
      "       0.04268168, 0.04268168, 0.01783684, 0.0054051 , 0.00391404,\n",
      "       0.0054051 , 0.00391404, 0.00391404, 0.00391404, 0.00391404,\n",
      "       0.00391404, 0.00391404, 0.00410042, 0.00410042, 0.00410042,\n",
      "       0.00536783, 0.00726893, 0.01970067, 0.01971931, 0.01783684,\n",
      "       0.01916016, 0.04454551, 0.06033213, 0.05511341, 0.05511341,\n",
      "       0.05718226, 0.05925111, 0.04579427, 0.04579427, 0.01886195,\n",
      "       0.0054051 , 0.00760442, 0.00743668, 0.00594561, 0.00749259])]\n",
      "[0.00503233742754366]\n",
      "\n",
      "[array([0.00288893, 0.01783684, 0.01783684, 0.0054051 , 0.00260936,\n",
      "       0.00218068, 0.00195702, 0.00178928, 0.00167745, 0.00167745,\n",
      "       0.00167745, 0.00167745, 0.00167745, 0.00186383, 0.00242298,\n",
      "       0.01970067, 0.05697724, 0.08182208, 0.08182208, 0.06294149,\n",
      "       0.05511341, 0.05511341, 0.05511341, 0.05511341, 0.05511341,\n",
      "       0.04268168, 0.04268168, 0.01783684, 0.0054051 , 0.00391404,\n",
      "       0.0054051 , 0.00391404, 0.00391404, 0.00391404, 0.00391404,\n",
      "       0.00391404, 0.00391404, 0.00410042, 0.00410042, 0.00410042,\n",
      "       0.00536783, 0.00726893, 0.01970067, 0.01971931, 0.01783684,\n",
      "       0.01916016, 0.04454551, 0.06033213, 0.05511341, 0.05511341,\n",
      "       0.05718226, 0.05925111, 0.04579427, 0.04579427, 0.01886195,\n",
      "       0.0054051 , 0.00760442, 0.00743668, 0.00594561, 0.00749259]), array([0.01783684, 0.01783684, 0.0054051 , 0.00260936, 0.00218068,\n",
      "       0.00195702, 0.00178928, 0.00167745, 0.00167745, 0.00167745,\n",
      "       0.00167745, 0.00167745, 0.00186383, 0.00242298, 0.01970067,\n",
      "       0.05697724, 0.08182208, 0.08182208, 0.06294149, 0.05511341,\n",
      "       0.05511341, 0.05511341, 0.05511341, 0.05511341, 0.04268168,\n",
      "       0.04268168, 0.01783684, 0.0054051 , 0.00391404, 0.0054051 ,\n",
      "       0.00391404, 0.00391404, 0.00391404, 0.00391404, 0.00391404,\n",
      "       0.00391404, 0.00410042, 0.00410042, 0.00410042, 0.00536783,\n",
      "       0.00726893, 0.01970067, 0.01971931, 0.01783684, 0.01916016,\n",
      "       0.04454551, 0.06033213, 0.05511341, 0.05511341, 0.05718226,\n",
      "       0.05925111, 0.04579427, 0.04579427, 0.01886195, 0.0054051 ,\n",
      "       0.00760442, 0.00743668, 0.00594561, 0.00749259, 0.00503234])]\n",
      "[0.00503233742754366, 0.00503233742754366]\n"
     ]
    }
   ],
   "source": [
    "train_data = scaled_data[0:int(training_data_len), :]\n",
    "x_train =[]\n",
    "y_train =[]\n",
    "for i in range(60 , len(train_data)):\n",
    "    x_train.append(train_data[i-60:i,0])\n",
    "    y_train.append(train_data[i,0])\n",
    "    if i<=61:\n",
    "        print(x_train)\n",
    "        print(y_train)\n",
    "        print()\n",
    "x_train,y_train = np.array(x_train),np.array(y_train)\n",
    "x_train = np.reshape(x_train,(x_train.shape[0],x_train.shape[1],1))\n"
   ]
  },
  {
   "cell_type": "code",
   "execution_count": 20,
   "id": "d09fe658a0deb00f",
   "metadata": {
    "ExecuteTime": {
     "end_time": "2024-01-17T02:36:35.522658900Z",
     "start_time": "2024-01-17T02:36:16.927026Z"
    },
    "collapsed": false,
    "jupyter": {
     "outputs_hidden": false
    }
   },
   "outputs": [
    {
     "ename": "NameError",
     "evalue": "name 'x_train' is not defined",
     "output_type": "error",
     "traceback": [
      "\u001b[1;31m---------------------------------------------------------------------------\u001b[0m",
      "\u001b[1;31mNameError\u001b[0m                                 Traceback (most recent call last)",
      "Cell \u001b[1;32mIn[20], line 4\u001b[0m\n\u001b[0;32m      2\u001b[0m \u001b[38;5;28;01mfrom\u001b[39;00m \u001b[38;5;21;01mkeras\u001b[39;00m\u001b[38;5;21;01m.\u001b[39;00m\u001b[38;5;21;01mlayers\u001b[39;00m \u001b[38;5;28;01mimport\u001b[39;00m Dense , LSTM\n\u001b[0;32m      3\u001b[0m model \u001b[38;5;241m=\u001b[39m Sequential()\n\u001b[1;32m----> 4\u001b[0m model\u001b[38;5;241m.\u001b[39madd(LSTM(\u001b[38;5;241m128\u001b[39m,return_sequences\u001b[38;5;241m=\u001b[39m\u001b[38;5;28;01mTrue\u001b[39;00m, input_shape \u001b[38;5;241m=\u001b[39m(\u001b[43mx_train\u001b[49m\u001b[38;5;241m.\u001b[39mshape[\u001b[38;5;241m1\u001b[39m],\u001b[38;5;241m1\u001b[39m)))\n\u001b[0;32m      5\u001b[0m model\u001b[38;5;241m.\u001b[39madd(LSTM(\u001b[38;5;241m64\u001b[39m,return_sequences\u001b[38;5;241m=\u001b[39m\u001b[38;5;28;01mFalse\u001b[39;00m))\n\u001b[0;32m      6\u001b[0m model\u001b[38;5;241m.\u001b[39madd(Dense(\u001b[38;5;241m25\u001b[39m))\n",
      "\u001b[1;31mNameError\u001b[0m: name 'x_train' is not defined"
     ]
    }
   ],
   "source": [
    "from keras.models import  Sequential\n",
    "from keras.layers import Dense , LSTM\n",
    "model = Sequential()\n",
    "model.add(LSTM(128,return_sequences=True, input_shape =(x_train.shape[1],1)))\n",
    "model.add(LSTM(64,return_sequences=False))\n",
    "model.add(Dense(25))\n",
    "model.add(Dense(1))\n",
    "model.compile(optimizer='adam',loss='mean_squared_error')\n",
    "model.fit(x_train , y_train,batch_size=52 , epochs=10)\n",
    "test_data = scaled_data[training_data_len -60,:]\n",
    "x_test =[]\n",
    "y_test = dataset[training_data_len:,:]\n",
    "for i in range(60,len(test_data)):\n",
    "    x_test.append(test_data[i-60:i,0])\n",
    "x_test = np.array(x_test)\n",
    "x_test = np.reshape(x_test,(x_test.shape[0], x_test.shape[1],1))\n",
    "predictions =model.predict(x_test)\n",
    "predictions =scaler.inverse_transform(predictions)\n",
    "rmse =np.sqrt(np.mean(((predictions-y_test)**2)))\n",
    "print(rmse)"
   ]
  },
  {
   "cell_type": "code",
   "execution_count": null,
   "id": "9036835283529190",
   "metadata": {
    "collapsed": false,
    "jupyter": {
     "outputs_hidden": false
    }
   },
   "outputs": [],
   "source": []
  }
 ],
 "metadata": {
  "kernelspec": {
   "display_name": "Python 3 (ipykernel)",
   "language": "python",
   "name": "python3"
  },
  "language_info": {
   "codemirror_mode": {
    "name": "ipython",
    "version": 3
   },
   "file_extension": ".py",
   "mimetype": "text/x-python",
   "name": "python",
   "nbconvert_exporter": "python",
   "pygments_lexer": "ipython3",
   "version": "3.11.5"
  }
 },
 "nbformat": 4,
 "nbformat_minor": 5
}
