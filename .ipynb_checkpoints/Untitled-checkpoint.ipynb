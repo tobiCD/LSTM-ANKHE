{
 "cells": [
  {
   "cell_type": "code",
   "execution_count": 2,
   "id": "9021ccca-66fb-4dd4-a9af-cfc4a6284e8e",
   "metadata": {},
   "outputs": [],
   "source": [
    "import numpy as np \n",
    "import pandas as pd \n",
    "import matplotlib.pyplot as plt\n"
   ]
  },
  {
   "cell_type": "code",
   "execution_count": 4,
   "id": "9846d455-f149-4ad3-9aa8-31dc8a15057d",
   "metadata": {},
   "outputs": [],
   "source": [
    "df = pd.read_csv('DuLieuAnKhe2.csv')\n",
    "                 "
   ]
  },
  {
   "cell_type": "code",
   "execution_count": 5,
   "id": "2bcbcdc8-8ab9-458d-9081-a54d7d64dbe3",
   "metadata": {},
   "outputs": [
    {
     "data": {
      "text/html": [
       "<div>\n",
       "<style scoped>\n",
       "    .dataframe tbody tr th:only-of-type {\n",
       "        vertical-align: middle;\n",
       "    }\n",
       "\n",
       "    .dataframe tbody tr th {\n",
       "        vertical-align: top;\n",
       "    }\n",
       "\n",
       "    .dataframe thead th {\n",
       "        text-align: right;\n",
       "    }\n",
       "</style>\n",
       "<table border=\"1\" class=\"dataframe\">\n",
       "  <thead>\n",
       "    <tr style=\"text-align: right;\">\n",
       "      <th></th>\n",
       "      <th>Time</th>\n",
       "      <th>WaterLevel</th>\n",
       "      <th>FlowWater</th>\n",
       "      <th>Total</th>\n",
       "    </tr>\n",
       "  </thead>\n",
       "  <tbody>\n",
       "    <tr>\n",
       "      <th>0</th>\n",
       "      <td>2019-10-02 00:00:00</td>\n",
       "      <td>427.18</td>\n",
       "      <td>2.65</td>\n",
       "      <td>0.0</td>\n",
       "    </tr>\n",
       "    <tr>\n",
       "      <th>1</th>\n",
       "      <td>2019-10-02 01:00:00</td>\n",
       "      <td>427.19</td>\n",
       "      <td>10.67</td>\n",
       "      <td>0.0</td>\n",
       "    </tr>\n",
       "    <tr>\n",
       "      <th>2</th>\n",
       "      <td>2019-10-02 02:00:00</td>\n",
       "      <td>427.20</td>\n",
       "      <td>10.67</td>\n",
       "      <td>0.0</td>\n",
       "    </tr>\n",
       "    <tr>\n",
       "      <th>3</th>\n",
       "      <td>2019-10-02 03:00:00</td>\n",
       "      <td>427.20</td>\n",
       "      <td>4.00</td>\n",
       "      <td>0.0</td>\n",
       "    </tr>\n",
       "    <tr>\n",
       "      <th>4</th>\n",
       "      <td>2019-10-02 04:00:00</td>\n",
       "      <td>427.19</td>\n",
       "      <td>2.50</td>\n",
       "      <td>0.0</td>\n",
       "    </tr>\n",
       "    <tr>\n",
       "      <th>5</th>\n",
       "      <td>2019-10-02 05:00:00</td>\n",
       "      <td>427.19</td>\n",
       "      <td>2.27</td>\n",
       "      <td>0.0</td>\n",
       "    </tr>\n",
       "    <tr>\n",
       "      <th>6</th>\n",
       "      <td>2019-10-02 06:00:00</td>\n",
       "      <td>427.18</td>\n",
       "      <td>2.15</td>\n",
       "      <td>0.0</td>\n",
       "    </tr>\n",
       "    <tr>\n",
       "      <th>7</th>\n",
       "      <td>2019-10-02 07:00:00</td>\n",
       "      <td>427.18</td>\n",
       "      <td>2.06</td>\n",
       "      <td>0.0</td>\n",
       "    </tr>\n",
       "    <tr>\n",
       "      <th>8</th>\n",
       "      <td>2019-10-02 08:00:00</td>\n",
       "      <td>427.17</td>\n",
       "      <td>2.00</td>\n",
       "      <td>0.0</td>\n",
       "    </tr>\n",
       "    <tr>\n",
       "      <th>9</th>\n",
       "      <td>2019-10-02 09:00:00</td>\n",
       "      <td>427.17</td>\n",
       "      <td>2.00</td>\n",
       "      <td>0.0</td>\n",
       "    </tr>\n",
       "  </tbody>\n",
       "</table>\n",
       "</div>"
      ],
      "text/plain": [
       "                  Time  WaterLevel  FlowWater  Total\n",
       "0  2019-10-02 00:00:00      427.18       2.65    0.0\n",
       "1  2019-10-02 01:00:00      427.19      10.67    0.0\n",
       "2  2019-10-02 02:00:00      427.20      10.67    0.0\n",
       "3  2019-10-02 03:00:00      427.20       4.00    0.0\n",
       "4  2019-10-02 04:00:00      427.19       2.50    0.0\n",
       "5  2019-10-02 05:00:00      427.19       2.27    0.0\n",
       "6  2019-10-02 06:00:00      427.18       2.15    0.0\n",
       "7  2019-10-02 07:00:00      427.18       2.06    0.0\n",
       "8  2019-10-02 08:00:00      427.17       2.00    0.0\n",
       "9  2019-10-02 09:00:00      427.17       2.00    0.0"
      ]
     },
     "execution_count": 5,
     "metadata": {},
     "output_type": "execute_result"
    }
   ],
   "source": [
    "df.head(10)"
   ]
  },
  {
   "cell_type": "code",
   "execution_count": 6,
   "id": "3ff77945-e4ca-45fa-afce-bb0d8ed7e225",
   "metadata": {},
   "outputs": [
    {
     "data": {
      "text/plain": [
       "(30564, 4)"
      ]
     },
     "execution_count": 6,
     "metadata": {},
     "output_type": "execute_result"
    }
   ],
   "source": [
    "df.shape"
   ]
  },
  {
   "cell_type": "code",
   "execution_count": 7,
   "id": "17b395c1-869b-4156-a1b9-8adf47e22afa",
   "metadata": {},
   "outputs": [
    {
     "data": {
      "text/html": [
       "<div>\n",
       "<style scoped>\n",
       "    .dataframe tbody tr th:only-of-type {\n",
       "        vertical-align: middle;\n",
       "    }\n",
       "\n",
       "    .dataframe tbody tr th {\n",
       "        vertical-align: top;\n",
       "    }\n",
       "\n",
       "    .dataframe thead th {\n",
       "        text-align: right;\n",
       "    }\n",
       "</style>\n",
       "<table border=\"1\" class=\"dataframe\">\n",
       "  <thead>\n",
       "    <tr style=\"text-align: right;\">\n",
       "      <th></th>\n",
       "      <th>WaterLevel</th>\n",
       "      <th>FlowWater</th>\n",
       "      <th>Total</th>\n",
       "    </tr>\n",
       "  </thead>\n",
       "  <tbody>\n",
       "    <tr>\n",
       "      <th>count</th>\n",
       "      <td>30564.000000</td>\n",
       "      <td>30564.000000</td>\n",
       "      <td>30564.00000</td>\n",
       "    </tr>\n",
       "    <tr>\n",
       "      <th>mean</th>\n",
       "      <td>429.607426</td>\n",
       "      <td>34.622634</td>\n",
       "      <td>1.34084</td>\n",
       "    </tr>\n",
       "    <tr>\n",
       "      <th>std</th>\n",
       "      <td>242.433483</td>\n",
       "      <td>45.696040</td>\n",
       "      <td>7.04787</td>\n",
       "    </tr>\n",
       "    <tr>\n",
       "      <th>min</th>\n",
       "      <td>48.420000</td>\n",
       "      <td>1.100000</td>\n",
       "      <td>0.00000</td>\n",
       "    </tr>\n",
       "    <tr>\n",
       "      <th>25%</th>\n",
       "      <td>427.830000</td>\n",
       "      <td>4.050000</td>\n",
       "      <td>0.00000</td>\n",
       "    </tr>\n",
       "    <tr>\n",
       "      <th>50%</th>\n",
       "      <td>428.180000</td>\n",
       "      <td>32.430000</td>\n",
       "      <td>0.00000</td>\n",
       "    </tr>\n",
       "    <tr>\n",
       "      <th>75%</th>\n",
       "      <td>428.730000</td>\n",
       "      <td>39.150000</td>\n",
       "      <td>0.00000</td>\n",
       "    </tr>\n",
       "    <tr>\n",
       "      <th>max</th>\n",
       "      <td>42810.000000</td>\n",
       "      <td>537.630000</td>\n",
       "      <td>173.40000</td>\n",
       "    </tr>\n",
       "  </tbody>\n",
       "</table>\n",
       "</div>"
      ],
      "text/plain": [
       "         WaterLevel     FlowWater        Total\n",
       "count  30564.000000  30564.000000  30564.00000\n",
       "mean     429.607426     34.622634      1.34084\n",
       "std      242.433483     45.696040      7.04787\n",
       "min       48.420000      1.100000      0.00000\n",
       "25%      427.830000      4.050000      0.00000\n",
       "50%      428.180000     32.430000      0.00000\n",
       "75%      428.730000     39.150000      0.00000\n",
       "max    42810.000000    537.630000    173.40000"
      ]
     },
     "execution_count": 7,
     "metadata": {},
     "output_type": "execute_result"
    }
   ],
   "source": [
    "df.describe()"
   ]
  },
  {
   "cell_type": "code",
   "execution_count": 8,
   "id": "fb7fecc4-bc16-4d3a-8da8-df3c628b3212",
   "metadata": {},
   "outputs": [
    {
     "name": "stdout",
     "output_type": "stream",
     "text": [
      "<class 'pandas.core.frame.DataFrame'>\n",
      "RangeIndex: 30564 entries, 0 to 30563\n",
      "Data columns (total 4 columns):\n",
      " #   Column      Non-Null Count  Dtype  \n",
      "---  ------      --------------  -----  \n",
      " 0   Time        30564 non-null  object \n",
      " 1   WaterLevel  30564 non-null  float64\n",
      " 2   FlowWater   30564 non-null  float64\n",
      " 3   Total       30564 non-null  float64\n",
      "dtypes: float64(3), object(1)\n",
      "memory usage: 955.3+ KB\n"
     ]
    }
   ],
   "source": [
    "df.info()"
   ]
  },
  {
   "cell_type": "code",
   "execution_count": 10,
   "id": "930bcf5e-fd7d-4cde-aaaf-5bbefb0dff49",
   "metadata": {},
   "outputs": [],
   "source": [
    "df['Time'] = pd.to_datetime(df['Time'])"
   ]
  },
  {
   "cell_type": "code",
   "execution_count": 11,
   "id": "73ef028b-b024-4f3c-a303-38f6a413d096",
   "metadata": {},
   "outputs": [],
   "source": [
    "df.index=df['Time']"
   ]
  },
  {
   "cell_type": "code",
   "execution_count": 12,
   "id": "d0ebfd7b-a5e0-43b6-b8a4-a3056f3c64e8",
   "metadata": {},
   "outputs": [
    {
     "data": {
      "text/html": [
       "<div>\n",
       "<style scoped>\n",
       "    .dataframe tbody tr th:only-of-type {\n",
       "        vertical-align: middle;\n",
       "    }\n",
       "\n",
       "    .dataframe tbody tr th {\n",
       "        vertical-align: top;\n",
       "    }\n",
       "\n",
       "    .dataframe thead th {\n",
       "        text-align: right;\n",
       "    }\n",
       "</style>\n",
       "<table border=\"1\" class=\"dataframe\">\n",
       "  <thead>\n",
       "    <tr style=\"text-align: right;\">\n",
       "      <th></th>\n",
       "      <th>Time</th>\n",
       "      <th>WaterLevel</th>\n",
       "      <th>FlowWater</th>\n",
       "      <th>Total</th>\n",
       "    </tr>\n",
       "    <tr>\n",
       "      <th>Time</th>\n",
       "      <th></th>\n",
       "      <th></th>\n",
       "      <th></th>\n",
       "      <th></th>\n",
       "    </tr>\n",
       "  </thead>\n",
       "  <tbody>\n",
       "    <tr>\n",
       "      <th>2019-10-02 00:00:00</th>\n",
       "      <td>2019-10-02 00:00:00</td>\n",
       "      <td>427.18</td>\n",
       "      <td>2.65</td>\n",
       "      <td>0.0</td>\n",
       "    </tr>\n",
       "    <tr>\n",
       "      <th>2019-10-02 01:00:00</th>\n",
       "      <td>2019-10-02 01:00:00</td>\n",
       "      <td>427.19</td>\n",
       "      <td>10.67</td>\n",
       "      <td>0.0</td>\n",
       "    </tr>\n",
       "    <tr>\n",
       "      <th>2019-10-02 02:00:00</th>\n",
       "      <td>2019-10-02 02:00:00</td>\n",
       "      <td>427.20</td>\n",
       "      <td>10.67</td>\n",
       "      <td>0.0</td>\n",
       "    </tr>\n",
       "    <tr>\n",
       "      <th>2019-10-02 03:00:00</th>\n",
       "      <td>2019-10-02 03:00:00</td>\n",
       "      <td>427.20</td>\n",
       "      <td>4.00</td>\n",
       "      <td>0.0</td>\n",
       "    </tr>\n",
       "    <tr>\n",
       "      <th>2019-10-02 04:00:00</th>\n",
       "      <td>2019-10-02 04:00:00</td>\n",
       "      <td>427.19</td>\n",
       "      <td>2.50</td>\n",
       "      <td>0.0</td>\n",
       "    </tr>\n",
       "  </tbody>\n",
       "</table>\n",
       "</div>"
      ],
      "text/plain": [
       "                                   Time  WaterLevel  FlowWater  Total\n",
       "Time                                                                 \n",
       "2019-10-02 00:00:00 2019-10-02 00:00:00      427.18       2.65    0.0\n",
       "2019-10-02 01:00:00 2019-10-02 01:00:00      427.19      10.67    0.0\n",
       "2019-10-02 02:00:00 2019-10-02 02:00:00      427.20      10.67    0.0\n",
       "2019-10-02 03:00:00 2019-10-02 03:00:00      427.20       4.00    0.0\n",
       "2019-10-02 04:00:00 2019-10-02 04:00:00      427.19       2.50    0.0"
      ]
     },
     "execution_count": 12,
     "metadata": {},
     "output_type": "execute_result"
    }
   ],
   "source": [
    "df.head()"
   ]
  },
  {
   "cell_type": "code",
   "execution_count": null,
   "id": "0eadad5b-aa5d-465d-87ca-be37ba3b33b8",
   "metadata": {},
   "outputs": [],
   "source": []
  }
 ],
 "metadata": {
  "kernelspec": {
   "display_name": "Python 3 (ipykernel)",
   "language": "python",
   "name": "python3"
  },
  "language_info": {
   "codemirror_mode": {
    "name": "ipython",
    "version": 3
   },
   "file_extension": ".py",
   "mimetype": "text/x-python",
   "name": "python",
   "nbconvert_exporter": "python",
   "pygments_lexer": "ipython3",
   "version": "3.11.5"
  }
 },
 "nbformat": 4,
 "nbformat_minor": 5
}
